{
  "cells": [
    {
      "cell_type": "code",
      "execution_count": null,
      "metadata": {
        "id": "TSNX0xBuRWLE"
      },
      "outputs": [],
      "source": [
        "import numpy as np\n",
        "import cv2 as cv\n",
        "from google.colab.patches import cv2_imshow\n",
        "import os\n",
        "import matplotlib.pyplot as plt\n",
        "\n",
        "from sklearn.utils import shuffle\n",
        "from sklearn.model_selection import train_test_split\n",
        "from sklearn.preprocessing import LabelEncoder\n",
        "\n",
        "from tensorflow.keras import models, layers, callbacks"
      ]
    },
    {
      "cell_type": "code",
      "execution_count": null,
      "metadata": {
        "id": "F1vecQfFjZNQ"
      },
      "outputs": [],
      "source": [
        "a = '/content/drive/MyDrive/Datasets/Fire-Detection/Fire/'\n",
        "a1 = os.listdir(a)\n",
        "b = '/content/drive/MyDrive/Datasets/Fire-Detection/No_Fire/'\n",
        "b1 = os.listdir(b)\n",
        "fire = []\n",
        "no_fire = []\n",
        "\n",
        "# Changing every image to black and white with size 75 by 75\n",
        "\n",
        "for i in a1:\n",
        "  i1 = cv.imread(a+i)\n",
        "  # a_gray = cv.cvtColor(i1, cv.COLOR_BGR2GRAY)\n",
        "  a_gray = cv.resize(i1, (75,75), interpolation = cv.INTER_AREA)\n",
        "  fire.append(a_gray)\n",
        "\n",
        "for i in b1:\n",
        "  i1 = cv.imread(b+i)\n",
        "  # b_gray = cv.cvtColor(i1, cv.COLOR_BGR2GRAY)\n",
        "  b_gray = cv.resize(i1, (75,75), interpolation = cv.INTER_AREA)\n",
        "  no_fire.append(b_gray)"
      ]
    },
    {
      "cell_type": "code",
      "execution_count": null,
      "metadata": {
        "id": "qVos_2Lwq_KI"
      },
      "outputs": [],
      "source": [
        "# Flipping each and every image\n",
        "\n",
        "x = []\n",
        "for i in fire:\n",
        "  x.append(cv.flip(i, 1))\n",
        "fire.extend(x)\n",
        "\n",
        "x = []\n",
        "for i in no_fire:\n",
        "  x.append(cv.flip(i, 1))\n",
        "no_fire.extend(x)\n",
        "\n",
        "# Shuffling the dataset\n",
        "\n",
        "fire1 = shuffle(fire.copy(), random_state = 42)\n",
        "no_fire1 = shuffle(no_fire.copy(), random_state = 42)"
      ]
    },
    {
      "cell_type": "code",
      "execution_count": null,
      "metadata": {
        "colab": {
          "base_uri": "https://localhost:8080/"
        },
        "id": "VahNWIEQCYAO",
        "outputId": "f66cff8f-8c42-4fc6-a1cd-0917b6170b02"
      },
      "outputs": [
        {
          "output_type": "stream",
          "name": "stdout",
          "text": [
            "220\n",
            "627\n",
            "(440, 75, 75, 3)\n",
            "(1463, 75, 75, 3)\n"
          ]
        }
      ],
      "source": [
        "# Adding salt-pepper noise to all the fire images and 75% of all the non-fire images\n",
        "\n",
        "x = []\n",
        "y = len(fire1)\n",
        "print(y)\n",
        "\n",
        "for i in range(y):\n",
        "  x1 = np.random.randint(0,2)\n",
        "  x2 = np.random.randint(0, 40, fire1[i].shape, dtype = np.uint8)\n",
        "\n",
        "  if x1==0:\n",
        "    x3 = cv.subtract(fire1[i], x2)\n",
        "\n",
        "  else:\n",
        "    x3 = cv.add(fire1[i], x2)\n",
        "\n",
        "  x.append(x3)\n",
        "fire1.extend(x)\n",
        "\n",
        "x = []\n",
        "y = len(no_fire1)*3//4\n",
        "print(y)\n",
        "\n",
        "for i in range(y):\n",
        "  x1 = np.random.randint(0,2)\n",
        "  x2 = np.random.randint(0, 40, no_fire1[i].shape, dtype = np.uint8)\n",
        "\n",
        "  if x1==0:\n",
        "    x3 = cv.subtract(no_fire1[i], x2)\n",
        "\n",
        "  else:\n",
        "    x3 = cv.add(no_fire1[i], x2)\n",
        "\n",
        "  x.append(x3)\n",
        "no_fire1.extend(x)\n",
        "\n",
        "# Shuffling the dataset\n",
        "\n",
        "fire1 = shuffle(fire1, random_state = 50)\n",
        "no_fire1 = shuffle(no_fire1, random_state = 78)\n",
        "\n",
        "print(np.asarray(fire1).shape)\n",
        "print(np.asarray(no_fire1).shape)"
      ]
    },
    {
      "cell_type": "code",
      "execution_count": null,
      "metadata": {
        "colab": {
          "base_uri": "https://localhost:8080/"
        },
        "id": "peK4sCuEoW-T",
        "outputId": "e4b1bf56-c298-402b-e272-bbc67bd9ebd9"
      },
      "outputs": [
        {
          "output_type": "stream",
          "name": "stdout",
          "text": [
            "440\n",
            "1097\n",
            "(880, 75, 75, 3)\n",
            "(2560, 75, 75, 3)\n"
          ]
        }
      ],
      "source": [
        "# Blurring all the fire images and 75% of all the non-fire in the dataset\n",
        "\n",
        "x = []\n",
        "y = len(fire1)\n",
        "print(y)\n",
        "\n",
        "for i in range(y):\n",
        "  x1 = cv.GaussianBlur(fire1[i], (3, 3), 0)\n",
        "  x.append(x1)\n",
        "fire1.extend(x)\n",
        "\n",
        "x = []\n",
        "y = len(no_fire1)*3//4\n",
        "print(y)\n",
        "\n",
        "for i in range(y):\n",
        "  x1 = cv.GaussianBlur(no_fire1[i], (3, 3), 0)\n",
        "  x.append(x1)\n",
        "no_fire1.extend(x)\n",
        "\n",
        "# Shuffling the dataset\n",
        "\n",
        "fire1 = shuffle(fire1, random_state = 55)\n",
        "no_fire1 = shuffle(no_fire1, random_state = 44)\n",
        "\n",
        "print(np.asarray(fire1).shape)\n",
        "print(np.asarray(no_fire1).shape)"
      ]
    },
    {
      "cell_type": "code",
      "execution_count": null,
      "metadata": {
        "colab": {
          "base_uri": "https://localhost:8080/"
        },
        "id": "sLKuw7sz-ARM",
        "outputId": "04a2c458-0e65-4632-cd13-c89f14be2f93"
      },
      "outputs": [
        {
          "output_type": "stream",
          "name": "stdout",
          "text": [
            "440\n",
            "1280\n",
            "(1760, 75, 75, 3)\n",
            "(5120, 75, 75, 3)\n"
          ]
        }
      ],
      "source": [
        "# Changing the brightness and contrast of all images\n",
        "\n",
        "x = []\n",
        "y = []\n",
        "z = len(fire1)//2\n",
        "print(z)\n",
        "\n",
        "for i in range(z):\n",
        "  x1 = np.random.uniform(0.2, 2)\n",
        "  x2 = np.array(fire1[i], dtype=np.float64)\n",
        "  x3 = np.array([[[x1]*3]*75]*75)\n",
        "  x4 = cv.multiply(x2, x3)\n",
        "  x.append(x4)\n",
        "\n",
        "  y1 = np.random.randint(30, 60)\n",
        "  y2 = np.array([[[y1]*3]*75]*75, dtype=np.uint8)\n",
        "  y3 = cv.add(fire1[z+i], y2)\n",
        "  y.append(y3)\n",
        "  \n",
        "fire1.extend(x)\n",
        "fire1.extend(y)\n",
        "\n",
        "x = []\n",
        "y = []\n",
        "z = len(no_fire1)//2\n",
        "print(z)\n",
        "\n",
        "for i in range(z):\n",
        "  x1 = np.random.uniform(0.2, 2)\n",
        "  x2 = np.array(no_fire1[i], dtype=np.float64)\n",
        "  x3 = np.array([[[x1]*3]*75]*75)\n",
        "  x4 = cv.multiply(x2, x3)\n",
        "  x.append(x4)\n",
        "\n",
        "  y1 = np.random.randint(30, 60)\n",
        "  y2 = np.array([[[y1]*3]*75]*75, dtype=np.uint8)\n",
        "  y3 = cv.add(no_fire1[z+i], y2)\n",
        "  y.append(y3)\n",
        "\n",
        "no_fire1.extend(x)\n",
        "no_fire1.extend(y)\n",
        "\n",
        "# Shuffling the images\n",
        "\n",
        "fire1 = shuffle(fire1, random_state = 50)\n",
        "no_fire1 = shuffle(no_fire1, random_state = 78)\n",
        "\n",
        "print(np.asarray(fire1).shape)\n",
        "print(np.asarray(no_fire1).shape)"
      ]
    },
    {
      "cell_type": "code",
      "execution_count": null,
      "metadata": {
        "colab": {
          "base_uri": "https://localhost:8080/"
        },
        "id": "XSd20L6jHsC4",
        "outputId": "cd03e9bb-0356-49d0-d18c-dbcce8ce3ed6"
      },
      "outputs": [
        {
          "output_type": "stream",
          "name": "stdout",
          "text": [
            "586\n",
            "1706\n",
            "(3518, 75, 75, 3)\n",
            "(10238, 75, 75, 3)\n"
          ]
        }
      ],
      "source": [
        "# Translating, Rotating and Zooming in/out some images\n",
        "\n",
        "x = []\n",
        "y = []\n",
        "y1 = []\n",
        "z = len(fire1)//3\n",
        "print(z)\n",
        "\n",
        "(h, w) = fire1[0].shape[:2]\n",
        "(cX, cY) = (w // 2, h // 2)\n",
        "\n",
        "for i in range(z):\n",
        "  \n",
        "  x00 = np.random.randint(-cX//2, cX//2)\n",
        "  x01 = np.random.randint(-cY//2, cY//2)\n",
        "  x1 = np.random.randint(-30, 30)\n",
        "  x2 = np.random.uniform(0.5, 1.5)\n",
        "\n",
        "  M0 = np.float32([[1, 0, x00], [0, 1, x01]])     # Random Translation\n",
        "  M1 = cv.getRotationMatrix2D((cX, cY), x1, 1)    # Random Rotation\n",
        "  M2 = cv.getRotationMatrix2D((cX, cY), 0, x2)    # Random Zoomng in/out\n",
        "\n",
        "  r0 = cv.warpAffine(fire1[i], M0, (w, h))\n",
        "  r1 = cv.warpAffine(fire1[z+i], M1, (w, h))\n",
        "  r2 = cv.warpAffine(fire1[2*z+i], M2, (w, h))\n",
        "\n",
        "  x.append(r0)\n",
        "  y.append(r1)\n",
        "  y1.append(r2)\n",
        "\n",
        "fire1.extend(x)\n",
        "fire1.extend(y)\n",
        "fire1.extend(y1)\n",
        "\n",
        "x = []\n",
        "y = []\n",
        "y1 = []\n",
        "z = len(no_fire1)//3\n",
        "print(z)\n",
        "\n",
        "for i in range(z):\n",
        "  \n",
        "  x00 = np.random.randint(-cX//2, cX//2)\n",
        "  x01 = np.random.randint(-cY//2, cY//2)\n",
        "  x1 = np.random.randint(-30, 30)\n",
        "  x2 = np.random.uniform(0.5, 1.5)\n",
        "\n",
        "  M0 = np.float32([[1, 0, x00], [0, 1, x01]])     # Random Translation\n",
        "  M1 = cv.getRotationMatrix2D((cX, cY), x1, 1)    # Random Rotation\n",
        "  M2 = cv.getRotationMatrix2D((cX, cY), 0, x2)    # Random Zooming in/out\n",
        "\n",
        "  r0 = cv.warpAffine(no_fire1[i], M0, (w, h))\n",
        "  r1 = cv.warpAffine(no_fire1[z+i], M1, (w, h))\n",
        "  r2 = cv.warpAffine(no_fire1[2*z+i], M2, (w, h))\n",
        "\n",
        "  x.append(r0)\n",
        "  y.append(r1)\n",
        "  y1.append(r2)\n",
        "\n",
        "no_fire1.extend(x)\n",
        "no_fire1.extend(y)\n",
        "no_fire1.extend(y1)\n",
        "\n",
        "# Shuffling the images\n",
        "\n",
        "fire1 = shuffle(fire1, random_state = 30)\n",
        "no_fire1 = shuffle(no_fire1, random_state = 38)\n",
        "\n",
        "print(np.asarray(fire1).shape)\n",
        "print(np.asarray(no_fire1).shape)"
      ]
    },
    {
      "cell_type": "code",
      "execution_count": null,
      "metadata": {
        "colab": {
          "base_uri": "https://localhost:8080/"
        },
        "id": "tL_vDyzv7-Ab",
        "outputId": "ab0d6e22-0c59-4a0e-be04-ed04a1bd9c9d"
      },
      "outputs": [
        {
          "output_type": "stream",
          "name": "stdout",
          "text": [
            "(13756, 75, 75, 3)\n"
          ]
        }
      ],
      "source": [
        "net_images = []\n",
        "net_images.extend(fire1)\n",
        "net_images.extend(no_fire1)\n",
        "\n",
        "print(np.asarray(net_images).shape)"
      ]
    },
    {
      "cell_type": "code",
      "execution_count": null,
      "metadata": {
        "id": "H3glWtuv2vZN"
      },
      "outputs": [],
      "source": [
        "n_fire = np.asarray(fire1).shape[0]\n",
        "n_no_fire = np.asarray(no_fire1).shape[0]\n",
        "\n",
        "fire_label = ['Fire']*n_fire\n",
        "no_fire_label = ['No Fire']*n_no_fire\n",
        "\n",
        "net_label = []\n",
        "net_label.extend(fire_label)\n",
        "net_label.extend(no_fire_label)\n",
        "\n",
        "le = LabelEncoder()\n",
        "labels = le.fit_transform(net_label)"
      ]
    },
    {
      "cell_type": "code",
      "execution_count": null,
      "metadata": {
        "colab": {
          "base_uri": "https://localhost:8080/"
        },
        "id": "OOfW6jL5tn4Z",
        "outputId": "58cd5361-10f0-4330-dac8-8e7e7810319e"
      },
      "outputs": [
        {
          "output_type": "stream",
          "name": "stdout",
          "text": [
            "(13756, 1)\n"
          ]
        }
      ],
      "source": [
        "labels = np.asarray(labels).reshape(-1, 1)\n",
        "print(np.asarray(labels).shape)"
      ]
    },
    {
      "cell_type": "code",
      "execution_count": null,
      "metadata": {
        "colab": {
          "base_uri": "https://localhost:8080/"
        },
        "id": "pkOlYfoh_DnO",
        "outputId": "09928a07-86d0-4779-9363-7f79c8abcf08"
      },
      "outputs": [
        {
          "output_type": "stream",
          "name": "stdout",
          "text": [
            "(12380, 75, 75, 3)\n"
          ]
        }
      ],
      "source": [
        "X_train, X_test, y_train, y_test = train_test_split(net_images, labels, test_size=0.1, random_state=24)\n",
        "print(np.asarray(X_train).shape)"
      ]
    },
    {
      "cell_type": "code",
      "execution_count": null,
      "metadata": {
        "id": "abrIS6Jv3G78"
      },
      "outputs": [],
      "source": [
        "X_train = np.asarray(X_train).reshape(-1, 75, 75, 3)\n",
        "X_test = np.asarray(X_test).reshape(-1, 75, 75, 3)\n",
        "\n",
        "X_train_1 = X_train/255\n",
        "X_test_1 = X_test/255"
      ]
    },
    {
      "cell_type": "code",
      "execution_count": null,
      "metadata": {
        "colab": {
          "base_uri": "https://localhost:8080/"
        },
        "id": "5rfeOyIhjqs0",
        "outputId": "0cd742e1-d33d-43d9-b254-89f5d12df6db"
      },
      "outputs": [
        {
          "output_type": "stream",
          "name": "stdout",
          "text": [
            "Epoch 1/30\n",
            "349/349 [==============================] - 114s 319ms/step - loss: 0.4183 - accuracy: 0.8005 - val_loss: 0.3687 - val_accuracy: 0.8691\n",
            "Epoch 2/30\n",
            "349/349 [==============================] - 107s 308ms/step - loss: 0.2598 - accuracy: 0.8928 - val_loss: 0.1601 - val_accuracy: 0.9418\n",
            "Epoch 3/30\n",
            "349/349 [==============================] - 110s 314ms/step - loss: 0.1981 - accuracy: 0.9231 - val_loss: 0.1828 - val_accuracy: 0.9378\n",
            "Epoch 4/30\n",
            "349/349 [==============================] - 109s 312ms/step - loss: 0.1517 - accuracy: 0.9435 - val_loss: 0.0959 - val_accuracy: 0.9725\n",
            "Epoch 5/30\n",
            "349/349 [==============================] - 109s 312ms/step - loss: 0.1050 - accuracy: 0.9629 - val_loss: 0.0865 - val_accuracy: 0.9669\n",
            "Epoch 6/30\n",
            "349/349 [==============================] - 109s 312ms/step - loss: 0.0741 - accuracy: 0.9728 - val_loss: 0.0439 - val_accuracy: 0.9855\n",
            "Epoch 7/30\n",
            "349/349 [==============================] - 108s 310ms/step - loss: 0.0611 - accuracy: 0.9796 - val_loss: 0.0398 - val_accuracy: 0.9879\n",
            "Epoch 8/30\n",
            "349/349 [==============================] - 108s 309ms/step - loss: 0.0533 - accuracy: 0.9819 - val_loss: 0.0630 - val_accuracy: 0.9814\n",
            "Epoch 9/30\n",
            "349/349 [==============================] - 109s 312ms/step - loss: 0.0552 - accuracy: 0.9835 - val_loss: 0.0508 - val_accuracy: 0.9838\n",
            "Epoch 10/30\n",
            "349/349 [==============================] - 109s 311ms/step - loss: 0.0464 - accuracy: 0.9852 - val_loss: 0.0513 - val_accuracy: 0.9838\n",
            "Epoch 11/30\n",
            "349/349 [==============================] - 109s 312ms/step - loss: 0.0454 - accuracy: 0.9846 - val_loss: 0.0393 - val_accuracy: 0.9863\n",
            "Epoch 12/30\n",
            "349/349 [==============================] - 109s 313ms/step - loss: 0.0211 - accuracy: 0.9934 - val_loss: 0.0264 - val_accuracy: 0.9911\n",
            "Epoch 13/30\n",
            "349/349 [==============================] - 109s 312ms/step - loss: 0.0366 - accuracy: 0.9876 - val_loss: 0.0464 - val_accuracy: 0.9822\n",
            "Epoch 14/30\n",
            "349/349 [==============================] - 108s 310ms/step - loss: 0.0471 - accuracy: 0.9864 - val_loss: 0.0284 - val_accuracy: 0.9879\n",
            "Epoch 15/30\n",
            "349/349 [==============================] - 108s 311ms/step - loss: 0.0311 - accuracy: 0.9909 - val_loss: 0.0754 - val_accuracy: 0.9758\n",
            "Epoch 16/30\n",
            "349/349 [==============================] - 108s 310ms/step - loss: 0.0336 - accuracy: 0.9888 - val_loss: 0.0446 - val_accuracy: 0.9838\n",
            "Epoch 17/30\n",
            "349/349 [==============================] - 109s 312ms/step - loss: 0.0159 - accuracy: 0.9946 - val_loss: 0.0904 - val_accuracy: 0.9798\n"
          ]
        },
        {
          "output_type": "execute_result",
          "data": {
            "text/plain": [
              "<keras.callbacks.History at 0x7fbc11022290>"
            ]
          },
          "metadata": {},
          "execution_count": 62
        }
      ],
      "source": [
        "# Building the actual model\n",
        "\n",
        "model = models.Sequential([\n",
        "    layers.Conv2D(32, 7, activation='relu', padding='same', strides=2, input_shape=(75, 75, 3)),\n",
        "    layers.MaxPool2D(2),\n",
        "    layers.Conv2D(64, 3, activation='relu', padding='same'),\n",
        "    layers.Conv2D(64, 3, activation='relu', padding='same'),\n",
        "    layers.Conv2D(64, 3, activation='relu', padding='same'),\n",
        "    layers.MaxPool2D(2),\n",
        "    layers.Conv2D(96, 3, activation='relu', padding='same'),\n",
        "    layers.Conv2D(96, 3, activation='relu', padding='same'),\n",
        "    layers.Conv2D(96, 3, activation='relu', padding='same'),\n",
        "    # layers.Conv2D(96, 3, activation='relu', padding='same'),\n",
        "    # layers.MaxPool2D(2),\n",
        "    # layers.Conv2D(128, 3, activation='relu', padding='same'),\n",
        "    \n",
        "    layers.Flatten(),\n",
        "    layers.Dense(60, activation='relu'),\n",
        "    layers.Dropout(0.5),\n",
        "    layers.Dense(45, activation='relu'),\n",
        "    layers.Dense(30, activation='relu'),\n",
        "    layers.Dense(2, activation='softmax')\n",
        "])\n",
        "\n",
        "model.compile(loss='sparse_categorical_crossentropy', metrics='accuracy', optimizer='adam')\n",
        "ES = callbacks.EarlyStopping(patience=5, restore_best_weights=True)\n",
        "model.fit(X_train_1, y_train, epochs=30, validation_split=0.1, callbacks=[ES])"
      ]
    },
    {
      "cell_type": "code",
      "execution_count": null,
      "metadata": {
        "colab": {
          "base_uri": "https://localhost:8080/"
        },
        "id": "mLHS3iL19rzS",
        "outputId": "dd0f4d1c-cbb5-42f1-9987-88267045fe6f"
      },
      "outputs": [
        {
          "output_type": "stream",
          "name": "stdout",
          "text": [
            "1376\n"
          ]
        }
      ],
      "source": [
        "y_pred = model.predict(X_test_1)\n",
        "\n",
        "print(len(y_pred))\n",
        "# print(y_pred[:10])"
      ]
    },
    {
      "cell_type": "code",
      "execution_count": null,
      "metadata": {
        "colab": {
          "base_uri": "https://localhost:8080/",
          "height": 334
        },
        "id": "9TYTIXHD0oQF",
        "outputId": "6d0ca8f2-9ab1-4018-9e1b-56b2d31b61c8"
      },
      "outputs": [
        {
          "output_type": "display_data",
          "data": {
            "image/png": "[encoded data removed]",
            "text/plain": [
              "<Figure size 432x288 with 1 Axes>"
            ]
          },
          "metadata": {
            "needs_background": "light"
          }
        },
        {
          "output_type": "stream",
          "name": "stdout",
          "text": [
            "13\n",
            "3\n",
            "Accuracy:  0.9934593023255814\n",
            "No. of correct predictions:  1367\n"
          ]
        }
      ],
      "source": [
        "y_graph = []\n",
        "y_pred_1 = []\n",
        "\n",
        "for i in y_pred:\n",
        "  y_graph.append(max(i[0], i[1]))\n",
        "  if i[0]<i[1]:\n",
        "    y_pred_1.append(1)\n",
        "  else:\n",
        "    y_pred_1.append(0)\n",
        "\n",
        "x_axis = range(len(X_test_1))\n",
        "\n",
        "plt.scatter(x_axis, y_graph)\n",
        "plt.show()\n",
        "\n",
        "j=0\n",
        "for i in y_graph:\n",
        "  if i<0.8:\n",
        "    j+=1\n",
        "\n",
        "print(j)\n",
        "\n",
        "j=0\n",
        "k=0\n",
        "for i in range(len(y_pred_1)):\n",
        "  if y_pred_1[i]==y_test[i]:\n",
        "    j+=1\n",
        "  else:\n",
        "    # print(i, ' -> ', y_pred[i])\n",
        "    if y_graph[i]<0.8:\n",
        "      k+=1\n",
        "\n",
        "print(k)\n",
        "print(\"Accuracy: \", j/len(y_test))\n",
        "print(\"No. of correct predictions: \", j)"
      ]
    }
  ],
  "metadata": {
    "colab": {
      "collapsed_sections": [],
      "name": "Fire Detection.ipynb",
      "provenance": [],
      "mount_file_id": "101mJYZa7J4Hq0XhLHf3nb2mxTKBjg1Hm",
      "authorship_tag": "ABX9TyOkqCoQjiMub93kpOt52T9Y"
    },
    "kernelspec": {
      "display_name": "Python 3",
      "name": "python3"
    },
    "language_info": {
      "name": "python"
    }
  },
  "nbformat": 4,
  "nbformat_minor": 0
}